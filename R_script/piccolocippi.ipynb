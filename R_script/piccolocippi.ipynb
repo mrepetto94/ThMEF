{
 "cells": [
  {
   "cell_type": "code",
   "execution_count": 2,
   "metadata": {
    "collapsed": false
   },
   "outputs": [],
   "source": [
    "library(ggplot2)\n",
    "library(ggrepel)\n",
    "library(plotly)"
   ]
  },
  {
   "cell_type": "code",
   "execution_count": 4,
   "metadata": {
    "collapsed": false
   },
   "outputs": [
    {
     "data": {
      "image/png": "[encoded data removed]",
      "text/plain": [
       "plot without title"
      ]
     },
     "metadata": {},
     "output_type": "display_data"
    }
   ],
   "source": [
    "c=read.table(\"datir.csv\", header=TRUE, sep=\";\", stringsAsFactors=FALSE)\n",
    "c$GNIxcap<-gsub(\",\",\".\",c$GNIxcap)\n",
    "c$Corporatetax<-gsub(\",\",\".\",c$Corporatetax)\n",
    "c$GNIxcap<-as.numeric(c$GNIxcap)\n",
    "c$Corporatetax<-as.numeric(c$Corporatetax)\n",
    "plot(c$GNIxcap,c$Corporatetax)"
   ]
  },
  {
   "cell_type": "code",
   "execution_count": 7,
   "metadata": {
    "collapsed": false
   },
   "outputs": [
    {
     "data": {
      "image/png": "[encoded data removed]",
      "text/plain": [
       "plot without title"
      ]
     },
     "metadata": {},
     "output_type": "display_data"
    }
   ],
   "source": [
    "c$Corporatetax<-scale(c$Corporatetax)\n",
    "c$GNIxcap<-scale(c$GNIxcap)\n",
    "plot(c$Corporatetax,c$GNIxcap)"
   ]
  },
  {
   "cell_type": "code",
   "execution_count": 9,
   "metadata": {
    "collapsed": false
   },
   "outputs": [],
   "source": [
    "kmax = 15 # the maximum number of clusters we will examine; you can change this\n",
    "totwss = rep(0,kmax) # will be filled with total sum of within group sum squares\n",
    "kmfit = list() # create and empty list\n"
   ]
  },
  {
   "cell_type": "code",
   "execution_count": 12,
   "metadata": {
    "collapsed": false
   },
   "outputs": [
    {
     "data": {
      "text/html": [
       "<table>\n",
       "<thead><tr><th scope=col>Corporatetax</th><th scope=col>GNIxcap</th></tr></thead>\n",
       "<tbody>\n",
       "\t<tr><td>-0.51546706 </td><td> 2.349490843</td></tr>\n",
       "\t<tr><td>-0.28329030 </td><td>-0.751703074</td></tr>\n",
       "\t<tr><td>-0.86373221 </td><td>-0.616113585</td></tr>\n",
       "\t<tr><td> 0.41323998 </td><td>-0.595054727</td></tr>\n",
       "\t<tr><td>-1.44417411 </td><td> 0.824386186</td></tr>\n",
       "\t<tr><td> 0.87759350 </td><td>-0.619808122</td></tr>\n",
       "\t<tr><td> 1.45803541 </td><td>-0.314269955</td></tr>\n",
       "\t<tr><td>-0.28329030 </td><td>-0.630891731</td></tr>\n",
       "\t<tr><td> 0.29715160 </td><td>-0.208236758</td></tr>\n",
       "\t<tr><td> 0.87759350 </td><td> 1.444329406</td></tr>\n",
       "\t<tr><td> 0.29715160 </td><td> 0.971798191</td></tr>\n",
       "\t<tr><td>-0.28329030 </td><td>-0.531878154</td></tr>\n",
       "\t<tr><td>-2.60505792 </td><td>-0.007992882</td></tr>\n",
       "\t<tr><td>-2.60505792 </td><td>-0.041243710</td></tr>\n",
       "\t<tr><td> 1.45803541 </td><td>-0.730274762</td></tr>\n",
       "\t<tr><td> 0.29715160 </td><td>-0.238162504</td></tr>\n",
       "\t<tr><td>-0.51546706 </td><td>-0.535203236</td></tr>\n",
       "\t<tr><td> 1.34194703 </td><td> 0.870198438</td></tr>\n",
       "\t<tr><td> 1.45803541 </td><td>-0.743205640</td></tr>\n",
       "\t<tr><td> 0.87759350 </td><td>-0.686309778</td></tr>\n",
       "\t<tr><td> 0.29715160 </td><td>-0.663403652</td></tr>\n",
       "\t<tr><td>-1.44417411 </td><td>-0.601704893</td></tr>\n",
       "\t<tr><td>-0.05111354 </td><td>-0.535572690</td></tr>\n",
       "\t<tr><td> 1.34194703 </td><td>-0.405155552</td></tr>\n",
       "\t<tr><td>-0.28329030 </td><td> 0.630053568</td></tr>\n",
       "\t<tr><td>-1.44417411 </td><td>-0.497888418</td></tr>\n",
       "\t<tr><td> 0.64541674 </td><td>-0.750594713</td></tr>\n",
       "\t<tr><td> 1.45803541 </td><td>-0.764633951</td></tr>\n",
       "\t<tr><td>-0.28329030 </td><td>-0.734708206</td></tr>\n",
       "\t<tr><td> 1.92238893 </td><td>-0.725471865</td></tr>\n",
       "\t<tr><td>...</td><td>...</td></tr>\n",
       "\t<tr><td>-1.44417411</td><td> 2.32880144</td></tr>\n",
       "\t<tr><td>-0.74764383</td><td>-0.42288933</td></tr>\n",
       "\t<tr><td>-0.28329030</td><td>-0.34124007</td></tr>\n",
       "\t<tr><td>-0.63155544</td><td> 1.15209157</td></tr>\n",
       "\t<tr><td>-0.28329030</td><td> 0.09582359</td></tr>\n",
       "\t<tr><td> 0.29715160</td><td>-0.73803329</td></tr>\n",
       "\t<tr><td>-0.86373221</td><td>-0.56956243</td></tr>\n",
       "\t<tr><td>-0.63155544</td><td> 1.15024430</td></tr>\n",
       "\t<tr><td>-0.05111354</td><td>-0.12510969</td></tr>\n",
       "\t<tr><td>-0.39937868</td><td> 0.04779462</td></tr>\n",
       "\t<tr><td> 0.64541674</td><td>-0.54961193</td></tr>\n",
       "\t<tr><td> 0.18106322</td><td> 0.23991052</td></tr>\n",
       "\t<tr><td> 0.29715160</td><td> 0.27426971</td></tr>\n",
       "\t<tr><td> 0.64541674</td><td>-0.65305895</td></tr>\n",
       "\t<tr><td>-0.05111354</td><td> 1.36489687</td></tr>\n",
       "\t<tr><td>-0.05111354</td><td>-0.70552137</td></tr>\n",
       "\t<tr><td> 0.87759350</td><td>-0.74025001</td></tr>\n",
       "\t<tr><td>-0.28329030</td><td>-0.56291226</td></tr>\n",
       "\t<tr><td> 0.29715160</td><td>-0.12252351</td></tr>\n",
       "\t<tr><td> 0.87759350</td><td>-0.62904446</td></tr>\n",
       "\t<tr><td>-0.28329030</td><td>-0.40663337</td></tr>\n",
       "\t<tr><td>-0.51546706</td><td>-0.67670398</td></tr>\n",
       "\t<tr><td>-2.60505792</td><td> 0.81773602</td></tr>\n",
       "\t<tr><td>-0.39937868</td><td> 0.84027269</td></tr>\n",
       "\t<tr><td> 1.45803541</td><td> 1.29396177</td></tr>\n",
       "\t<tr><td> 0.29715160</td><td>-0.19345861</td></tr>\n",
       "\t<tr><td>-1.67635087</td><td>-0.69443776</td></tr>\n",
       "\t<tr><td> 1.34194703</td><td>-0.33902335</td></tr>\n",
       "\t<tr><td>-0.28329030</td><td>-0.70071847</td></tr>\n",
       "\t<tr><td>-0.28329030</td><td>-0.73212203</td></tr>\n",
       "</tbody>\n",
       "</table>\n"
      ],
      "text/latex": [
       "\\begin{tabular}{r|ll}\n",
       " Corporatetax & GNIxcap\\\\\n",
       "\\hline\n",
       "\t -0.51546706  &  2.349490843\\\\\n",
       "\t -0.28329030  & -0.751703074\\\\\n",
       "\t -0.86373221  & -0.616113585\\\\\n",
       "\t  0.41323998  & -0.595054727\\\\\n",
       "\t -1.44417411  &  0.824386186\\\\\n",
       "\t  0.87759350  & -0.619808122\\\\\n",
       "\t  1.45803541  & -0.314269955\\\\\n",
       "\t -0.28329030  & -0.630891731\\\\\n",
       "\t  0.29715160  & -0.208236758\\\\\n",
       "\t  0.87759350  &  1.444329406\\\\\n",
       "\t  0.29715160  &  0.971798191\\\\\n",
       "\t -0.28329030  & -0.531878154\\\\\n",
       "\t -2.60505792  & -0.007992882\\\\\n",
       "\t -2.60505792  & -0.041243710\\\\\n",
       "\t  1.45803541  & -0.730274762\\\\\n",
       "\t  0.29715160  & -0.238162504\\\\\n",
       "\t -0.51546706  & -0.535203236\\\\\n",
       "\t  1.34194703  &  0.870198438\\\\\n",
       "\t  1.45803541  & -0.743205640\\\\\n",
       "\t  0.87759350  & -0.686309778\\\\\n",
       "\t  0.29715160  & -0.663403652\\\\\n",
       "\t -1.44417411  & -0.601704893\\\\\n",
       "\t -0.05111354  & -0.535572690\\\\\n",
       "\t  1.34194703  & -0.405155552\\\\\n",
       "\t -0.28329030  &  0.630053568\\\\\n",
       "\t -1.44417411  & -0.497888418\\\\\n",
       "\t  0.64541674  & -0.750594713\\\\\n",
       "\t  1.45803541  & -0.764633951\\\\\n",
       "\t -0.28329030  & -0.734708206\\\\\n",
       "\t  1.92238893  & -0.725471865\\\\\n",
       "\t ... & ...\\\\\n",
       "\t -1.44417411 &  2.32880144\\\\\n",
       "\t -0.74764383 & -0.42288933\\\\\n",
       "\t -0.28329030 & -0.34124007\\\\\n",
       "\t -0.63155544 &  1.15209157\\\\\n",
       "\t -0.28329030 &  0.09582359\\\\\n",
       "\t  0.29715160 & -0.73803329\\\\\n",
       "\t -0.86373221 & -0.56956243\\\\\n",
       "\t -0.63155544 &  1.15024430\\\\\n",
       "\t -0.05111354 & -0.12510969\\\\\n",
       "\t -0.39937868 &  0.04779462\\\\\n",
       "\t  0.64541674 & -0.54961193\\\\\n",
       "\t  0.18106322 &  0.23991052\\\\\n",
       "\t  0.29715160 &  0.27426971\\\\\n",
       "\t  0.64541674 & -0.65305895\\\\\n",
       "\t -0.05111354 &  1.36489687\\\\\n",
       "\t -0.05111354 & -0.70552137\\\\\n",
       "\t  0.87759350 & -0.74025001\\\\\n",
       "\t -0.28329030 & -0.56291226\\\\\n",
       "\t  0.29715160 & -0.12252351\\\\\n",
       "\t  0.87759350 & -0.62904446\\\\\n",
       "\t -0.28329030 & -0.40663337\\\\\n",
       "\t -0.51546706 & -0.67670398\\\\\n",
       "\t -2.60505792 &  0.81773602\\\\\n",
       "\t -0.39937868 &  0.84027269\\\\\n",
       "\t  1.45803541 &  1.29396177\\\\\n",
       "\t  0.29715160 & -0.19345861\\\\\n",
       "\t -1.67635087 & -0.69443776\\\\\n",
       "\t  1.34194703 & -0.33902335\\\\\n",
       "\t -0.28329030 & -0.70071847\\\\\n",
       "\t -0.28329030 & -0.73212203\\\\\n",
       "\\end{tabular}\n"
      ],
      "text/markdown": [
       "\n",
       "Corporatetax | GNIxcap | \n",
       "|---|---|---|---|---|---|---|---|---|---|---|---|---|---|---|---|---|---|---|---|---|---|---|---|---|---|---|---|---|---|---|---|---|---|---|---|---|---|---|---|---|---|---|---|---|---|---|---|---|---|---|---|---|---|---|---|---|---|---|---|---|\n",
       "| -0.51546706  |  2.349490843 | \n",
       "| -0.28329030  | -0.751703074 | \n",
       "| -0.86373221  | -0.616113585 | \n",
       "|  0.41323998  | -0.595054727 | \n",
       "| -1.44417411  |  0.824386186 | \n",
       "|  0.87759350  | -0.619808122 | \n",
       "|  1.45803541  | -0.314269955 | \n",
       "| -0.28329030  | -0.630891731 | \n",
       "|  0.29715160  | -0.208236758 | \n",
       "|  0.87759350  |  1.444329406 | \n",
       "|  0.29715160  |  0.971798191 | \n",
       "| -0.28329030  | -0.531878154 | \n",
       "| -2.60505792  | -0.007992882 | \n",
       "| -2.60505792  | -0.041243710 | \n",
       "|  1.45803541  | -0.730274762 | \n",
       "|  0.29715160  | -0.238162504 | \n",
       "| -0.51546706  | -0.535203236 | \n",
       "|  1.34194703  |  0.870198438 | \n",
       "|  1.45803541  | -0.743205640 | \n",
       "|  0.87759350  | -0.686309778 | \n",
       "|  0.29715160  | -0.663403652 | \n",
       "| -1.44417411  | -0.601704893 | \n",
       "| -0.05111354  | -0.535572690 | \n",
       "|  1.34194703  | -0.405155552 | \n",
       "| -0.28329030  |  0.630053568 | \n",
       "| -1.44417411  | -0.497888418 | \n",
       "|  0.64541674  | -0.750594713 | \n",
       "|  1.45803541  | -0.764633951 | \n",
       "| -0.28329030  | -0.734708206 | \n",
       "|  1.92238893  | -0.725471865 | \n",
       "| ... | ... | \n",
       "| -1.44417411 |  2.32880144 | \n",
       "| -0.74764383 | -0.42288933 | \n",
       "| -0.28329030 | -0.34124007 | \n",
       "| -0.63155544 |  1.15209157 | \n",
       "| -0.28329030 |  0.09582359 | \n",
       "|  0.29715160 | -0.73803329 | \n",
       "| -0.86373221 | -0.56956243 | \n",
       "| -0.63155544 |  1.15024430 | \n",
       "| -0.05111354 | -0.12510969 | \n",
       "| -0.39937868 |  0.04779462 | \n",
       "|  0.64541674 | -0.54961193 | \n",
       "|  0.18106322 |  0.23991052 | \n",
       "|  0.29715160 |  0.27426971 | \n",
       "|  0.64541674 | -0.65305895 | \n",
       "| -0.05111354 |  1.36489687 | \n",
       "| -0.05111354 | -0.70552137 | \n",
       "|  0.87759350 | -0.74025001 | \n",
       "| -0.28329030 | -0.56291226 | \n",
       "|  0.29715160 | -0.12252351 | \n",
       "|  0.87759350 | -0.62904446 | \n",
       "| -0.28329030 | -0.40663337 | \n",
       "| -0.51546706 | -0.67670398 | \n",
       "| -2.60505792 |  0.81773602 | \n",
       "| -0.39937868 |  0.84027269 | \n",
       "|  1.45803541 |  1.29396177 | \n",
       "|  0.29715160 | -0.19345861 | \n",
       "| -1.67635087 | -0.69443776 | \n",
       "|  1.34194703 | -0.33902335 | \n",
       "| -0.28329030 | -0.70071847 | \n",
       "| -0.28329030 | -0.73212203 | \n",
       "\n",
       "\n"
      ],
      "text/plain": [
       "    Corporatetax GNIxcap     \n",
       "1   -0.51546706   2.349490843\n",
       "2   -0.28329030  -0.751703074\n",
       "3   -0.86373221  -0.616113585\n",
       "4    0.41323998  -0.595054727\n",
       "5   -1.44417411   0.824386186\n",
       "6    0.87759350  -0.619808122\n",
       "7    1.45803541  -0.314269955\n",
       "8   -0.28329030  -0.630891731\n",
       "9    0.29715160  -0.208236758\n",
       "10   0.87759350   1.444329406\n",
       "11   0.29715160   0.971798191\n",
       "12  -0.28329030  -0.531878154\n",
       "13  -2.60505792  -0.007992882\n",
       "14  -2.60505792  -0.041243710\n",
       "15   1.45803541  -0.730274762\n",
       "16   0.29715160  -0.238162504\n",
       "17  -0.51546706  -0.535203236\n",
       "18   1.34194703   0.870198438\n",
       "19   1.45803541  -0.743205640\n",
       "20   0.87759350  -0.686309778\n",
       "21   0.29715160  -0.663403652\n",
       "22  -1.44417411  -0.601704893\n",
       "23  -0.05111354  -0.535572690\n",
       "24   1.34194703  -0.405155552\n",
       "25  -0.28329030   0.630053568\n",
       "26  -1.44417411  -0.497888418\n",
       "27   0.64541674  -0.750594713\n",
       "28   1.45803541  -0.764633951\n",
       "29  -0.28329030  -0.734708206\n",
       "30   1.92238893  -0.725471865\n",
       "... ...          ...         \n",
       "105 -1.44417411   2.32880144 \n",
       "106 -0.74764383  -0.42288933 \n",
       "107 -0.28329030  -0.34124007 \n",
       "108 -0.63155544   1.15209157 \n",
       "109 -0.28329030   0.09582359 \n",
       "110  0.29715160  -0.73803329 \n",
       "111 -0.86373221  -0.56956243 \n",
       "112 -0.63155544   1.15024430 \n",
       "113 -0.05111354  -0.12510969 \n",
       "114 -0.39937868   0.04779462 \n",
       "115  0.64541674  -0.54961193 \n",
       "116  0.18106322   0.23991052 \n",
       "117  0.29715160   0.27426971 \n",
       "118  0.64541674  -0.65305895 \n",
       "119 -0.05111354   1.36489687 \n",
       "120 -0.05111354  -0.70552137 \n",
       "121  0.87759350  -0.74025001 \n",
       "122 -0.28329030  -0.56291226 \n",
       "123  0.29715160  -0.12252351 \n",
       "124  0.87759350  -0.62904446 \n",
       "125 -0.28329030  -0.40663337 \n",
       "126 -0.51546706  -0.67670398 \n",
       "127 -2.60505792   0.81773602 \n",
       "128 -0.39937868   0.84027269 \n",
       "129  1.45803541   1.29396177 \n",
       "130  0.29715160  -0.19345861 \n",
       "131 -1.67635087  -0.69443776 \n",
       "132  1.34194703  -0.33902335 \n",
       "133 -0.28329030  -0.70071847 \n",
       "134 -0.28329030  -0.73212203 "
      ]
     },
     "metadata": {},
     "output_type": "display_data"
    }
   ],
   "source": []
  },
  {
   "cell_type": "code",
   "execution_count": 14,
   "metadata": {
    "collapsed": true
   },
   "outputs": [],
   "source": [
    "for (i in 1:kmax){\n",
    "kclus = kmeans(subset(c, select=c(\"Corporatetax\", \"GNIxcap\")),centers=i,iter.max=20)\n",
    "totwss[i] = kclus$tot.withinss\n",
    "kmfit[[i]] = kclus\n",
    "}"
   ]
  },
  {
   "cell_type": "code",
   "execution_count": 21,
   "metadata": {
    "collapsed": false
   },
   "outputs": [
    {
     "data": {
      "text/html": [
       "134"
      ],
      "text/latex": [
       "134"
      ],
      "text/markdown": [
       "134"
      ],
      "text/plain": [
       "[1] 134"
      ]
     },
     "metadata": {},
     "output_type": "display_data"
    }
   ],
   "source": [
    "n = nrow(subset(c, select=c(\"Corporatetax\", \"GNIxcap\")))\n",
    "n"
   ]
  },
  {
   "cell_type": "code",
   "execution_count": 22,
   "metadata": {
    "collapsed": false
   },
   "outputs": [
    {
     "data": {
      "image/png": "[encoded data removed]",
      "text/plain": [
       "plot without title"
      ]
     },
     "metadata": {},
     "output_type": "display_data"
    }
   ],
   "source": [
    "\n",
    "rsq = 1-(totwss*(n-1))/(totwss[1]*(n-seq(1,kmax)))\n",
    "\n",
    "plot(seq(1,kmax),rsq,xlab=\"Number of clusters\",ylab=\"Adjusted R-squared\",pch=20,cex=2)"
   ]
  },
  {
   "cell_type": "code",
   "execution_count": 103,
   "metadata": {
    "collapsed": false
   },
   "outputs": [
    {
     "data": {
      "text/plain": [
       "K-means clustering with 5 clusters of sizes 21, 1, 17, 43, 52\n",
       "\n",
       "Cluster means:\n",
       "  Corporatetax    GNIxcap\n",
       "1   -0.4878270  1.5131885\n",
       "2    1.2258586  6.1238293\n",
       "3   -1.7104945 -0.2420744\n",
       "4    1.0449768 -0.2980655\n",
       "5   -0.1314824 -0.4032443\n",
       "\n",
       "Clustering vector:\n",
       "  1   2   3   4   5   6   7   8   9  10  11  12  13  14  15  16  17  18  19  20 \n",
       "  1   5   5   5   3   4   4   5   5   1   1   5   3   3   4   5   5   4   4   4 \n",
       " 21  22  23  24  25  26  27  28  29  30  31  32  33  34  35  36  37  38  39  40 \n",
       "  5   3   5   4   1   3   4   4   5   4   4   5   4   5   5   5   4   5   4   3 \n",
       " 41  42  43  44  45  46  47  48  49  50  51  52  53  54  55  56  57  58  59  60 \n",
       "  5   1   4   5   5   4   3   1   4   4   4   5   4   4   5   4   1   3   1   4 \n",
       " 61  62  63  64  65  66  67  68  69  70  71  72  73  74  75  76  77  78  79  80 \n",
       "  5   5   1   1   5   4   4   4   5   5   4   1   5   5   1   4   1   1   3   5 \n",
       " 81  82  83  84  85  86  87  88  89  90  91  92  93  94  95  96  97  98  99 100 \n",
       "  3   4   5   4   3   2   3   3   4   5   1   4   4   4   1   3   4   5   3   4 \n",
       "101 102 103 104 105 106 107 108 109 110 111 112 113 114 115 116 117 118 119 120 \n",
       "  4   5   5   5   1   5   5   1   5   5   5   1   5   5   4   5   5   4   1   5 \n",
       "121 122 123 124 125 126 127 128 129 130 131 132 133 134 \n",
       "  4   5   5   4   5   5   3   1   4   5   3   4   5   5 \n",
       "\n",
       "Within cluster sum of squares by cluster:\n",
       "[1] 23.491153  0.000000  8.272946 18.569226 12.716291\n",
       " (between_SS / total_SS =  76.3 %)\n",
       "\n",
       "Available components:\n",
       "\n",
       "[1] \"cluster\"      \"centers\"      \"totss\"        \"withinss\"     \"tot.withinss\"\n",
       "[6] \"betweenss\"    \"size\"         \"iter\"         \"ifault\"      "
      ]
     },
     "metadata": {},
     "output_type": "display_data"
    }
   ],
   "source": [
    "Cluster <- kmeans(subset(mtcars, select=c(\"Corporatetax\", \"GNIxcap\")), 5, nstart = 20)\n",
    "Cluster"
   ]
  },
  {
   "cell_type": "code",
   "execution_count": 104,
   "metadata": {
    "collapsed": false
   },
   "outputs": [
    {
     "data": {},
     "metadata": {},
     "output_type": "display_data"
    },
    {
     "data": {
      "image/png": "[encoded data removed]",
      "text/plain": [
       "plot without title"
      ]
     },
     "metadata": {},
     "output_type": "display_data"
    }
   ],
   "source": [
    "Cluster$cluster <- as.factor(Cluster$cluster)\n",
    "ggplot(subset(mtcars, select=c(\"Corporatetax\", \"GNIxcap\")), aes(Corporatetax, GNIxcap, color = Cluster$cluster)) + geom_point()"
   ]
  },
  {
   "cell_type": "code",
   "execution_count": 110,
   "metadata": {
    "collapsed": false
   },
   "outputs": [],
   "source": [
    "write.csv2(file=\"ciccino.csv\", x=data.frame(mtcars$Country, mtcars$Corporatetax, mtcars$GNIxcap, Cluster$cluster), row.names = FALSE)"
   ]
  },
  {
   "cell_type": "code",
   "execution_count": null,
   "metadata": {
    "collapsed": true
   },
   "outputs": [],
   "source": []
  }
 ],
 "metadata": {
  "kernelspec": {
   "display_name": "R",
   "language": "R",
   "name": "ir"
  },
  "language_info": {
   "codemirror_mode": "r",
   "file_extension": ".r",
   "mimetype": "text/x-r-source",
   "name": "R",
   "pygments_lexer": "r",
   "version": "3.3.2"
  }
 },
 "nbformat": 4,
 "nbformat_minor": 2
}
